{
 "cells": [
  {
   "cell_type": "code",
   "execution_count": 4,
   "metadata": {},
   "outputs": [
    {
     "data": {
      "text/html": [
       "<div>\n",
       "<style>\n",
       "    .dataframe thead tr:only-child th {\n",
       "        text-align: right;\n",
       "    }\n",
       "\n",
       "    .dataframe thead th {\n",
       "        text-align: left;\n",
       "    }\n",
       "\n",
       "    .dataframe tbody tr th {\n",
       "        vertical-align: top;\n",
       "    }\n",
       "</style>\n",
       "<table border=\"1\" class=\"dataframe\">\n",
       "  <thead>\n",
       "    <tr style=\"text-align: right;\">\n",
       "      <th></th>\n",
       "      <th>title</th>\n",
       "      <th>read_num</th>\n",
       "      <th>like_num</th>\n",
       "      <th>comment_num</th>\n",
       "      <th>reward_num</th>\n",
       "      <th>p_date</th>\n",
       "    </tr>\n",
       "  </thead>\n",
       "  <tbody>\n",
       "    <tr>\n",
       "      <th>0</th>\n",
       "      <td>为什么我推荐你学习数据分析</td>\n",
       "      <td>3549</td>\n",
       "      <td>22</td>\n",
       "      <td>0</td>\n",
       "      <td>0</td>\n",
       "      <td>2018-01-15 19:59:14</td>\n",
       "    </tr>\n",
       "    <tr>\n",
       "      <th>1</th>\n",
       "      <td>推荐几个公众号（文末彩蛋）</td>\n",
       "      <td>4866</td>\n",
       "      <td>37</td>\n",
       "      <td>0</td>\n",
       "      <td>0</td>\n",
       "      <td>2018-01-12 12:13:55</td>\n",
       "    </tr>\n",
       "    <tr>\n",
       "      <th>2</th>\n",
       "      <td>普通程序员的逆袭：如何学习数据挖掘与人工智能</td>\n",
       "      <td>3582</td>\n",
       "      <td>14</td>\n",
       "      <td>0</td>\n",
       "      <td>0</td>\n",
       "      <td>2018-01-11 21:06:24</td>\n",
       "    </tr>\n",
       "    <tr>\n",
       "      <th>3</th>\n",
       "      <td>这10个题，有 68% 的人答不对</td>\n",
       "      <td>3643</td>\n",
       "      <td>49</td>\n",
       "      <td>0</td>\n",
       "      <td>1</td>\n",
       "      <td>2018-01-10 07:31:18</td>\n",
       "    </tr>\n",
       "    <tr>\n",
       "      <th>4</th>\n",
       "      <td>Python知识冲顶大会</td>\n",
       "      <td>5308</td>\n",
       "      <td>30</td>\n",
       "      <td>0</td>\n",
       "      <td>0</td>\n",
       "      <td>2018-01-08 08:00:00</td>\n",
       "    </tr>\n",
       "  </tbody>\n",
       "</table>\n",
       "</div>"
      ],
      "text/plain": [
       "                    title  read_num  like_num  comment_num  reward_num  \\\n",
       "0           为什么我推荐你学习数据分析      3549        22            0           0   \n",
       "1           推荐几个公众号（文末彩蛋）      4866        37            0           0   \n",
       "2  普通程序员的逆袭：如何学习数据挖掘与人工智能      3582        14            0           0   \n",
       "3       这10个题，有 68% 的人答不对      3643        49            0           1   \n",
       "4            Python知识冲顶大会      5308        30            0           0   \n",
       "\n",
       "               p_date  \n",
       "0 2018-01-15 19:59:14  \n",
       "1 2018-01-12 12:13:55  \n",
       "2 2018-01-11 21:06:24  \n",
       "3 2018-01-10 07:31:18  \n",
       "4 2018-01-08 08:00:00  "
      ]
     },
     "execution_count": 4,
     "metadata": {},
     "output_type": "execute_result"
    }
   ],
   "source": [
    "%matplotlib inline\n",
    "\n",
    "import matplotlib.pyplot as plt\n",
    "import pandas as pd\n",
    "import numpy as np\n",
    "\n",
    "display_colums = ['title','read_num','like_num','comment_num','reward_num','p_date']\n",
    "\n",
    "df = pd.read_csv('/Users/wangyunfei/PycharmProjects/Spider/post.csv')\n",
    "\n",
    "df=df.reindex(columns=display_colums)\n",
    "df.p_date =pd.to_datetime(df['p_date'])\n",
    "# df.describe()\n",
    "\n",
    "# df.head()"
   ]
  },
  {
   "cell_type": "code",
   "execution_count": 5,
   "metadata": {},
   "outputs": [
    {
     "data": {
      "text/html": [
       "<div>\n",
       "<style>\n",
       "    .dataframe thead tr:only-child th {\n",
       "        text-align: right;\n",
       "    }\n",
       "\n",
       "    .dataframe thead th {\n",
       "        text-align: left;\n",
       "    }\n",
       "\n",
       "    .dataframe tbody tr th {\n",
       "        vertical-align: top;\n",
       "    }\n",
       "</style>\n",
       "<table border=\"1\" class=\"dataframe\">\n",
       "  <thead>\n",
       "    <tr style=\"text-align: right;\">\n",
       "      <th></th>\n",
       "      <th>title</th>\n",
       "      <th>read_num</th>\n",
       "      <th>like_num</th>\n",
       "      <th>comment_num</th>\n",
       "      <th>reward_num</th>\n",
       "      <th>p_date</th>\n",
       "    </tr>\n",
       "  </thead>\n",
       "  <tbody>\n",
       "    <tr>\n",
       "      <th>0</th>\n",
       "      <td>微软考虑将 Python 作为 Excel 官方脚本语言</td>\n",
       "      <td>8628</td>\n",
       "      <td>66</td>\n",
       "      <td>0</td>\n",
       "      <td>0</td>\n",
       "      <td>2017-12-17 16:57:23</td>\n",
       "    </tr>\n",
       "    <tr>\n",
       "      <th>1</th>\n",
       "      <td>5个酷毙的Python工具</td>\n",
       "      <td>8443</td>\n",
       "      <td>39</td>\n",
       "      <td>0</td>\n",
       "      <td>0</td>\n",
       "      <td>2017-12-27 08:00:00</td>\n",
       "    </tr>\n",
       "    <tr>\n",
       "      <th>2</th>\n",
       "      <td>Python是怎么火起来的</td>\n",
       "      <td>8423</td>\n",
       "      <td>67</td>\n",
       "      <td>0</td>\n",
       "      <td>3</td>\n",
       "      <td>2017-06-30 07:54:56</td>\n",
       "    </tr>\n",
       "    <tr>\n",
       "      <th>3</th>\n",
       "      <td>Python爬虫知识点梳理</td>\n",
       "      <td>8370</td>\n",
       "      <td>128</td>\n",
       "      <td>0</td>\n",
       "      <td>5</td>\n",
       "      <td>2017-09-20 18:12:54</td>\n",
       "    </tr>\n",
       "    <tr>\n",
       "      <th>4</th>\n",
       "      <td>如何快速入门Python</td>\n",
       "      <td>8132</td>\n",
       "      <td>123</td>\n",
       "      <td>0</td>\n",
       "      <td>13</td>\n",
       "      <td>2017-06-05 08:47:48</td>\n",
       "    </tr>\n",
       "    <tr>\n",
       "      <th>5</th>\n",
       "      <td>最新技能 get：用 AI 玩微信跳一跳，自动刷分可破 10000 分</td>\n",
       "      <td>8078</td>\n",
       "      <td>75</td>\n",
       "      <td>0</td>\n",
       "      <td>0</td>\n",
       "      <td>2018-01-05 16:30:00</td>\n",
       "    </tr>\n",
       "    <tr>\n",
       "      <th>6</th>\n",
       "      <td>推荐几个公众号</td>\n",
       "      <td>7726</td>\n",
       "      <td>105</td>\n",
       "      <td>0</td>\n",
       "      <td>7</td>\n",
       "      <td>2017-11-12 14:55:30</td>\n",
       "    </tr>\n",
       "    <tr>\n",
       "      <th>7</th>\n",
       "      <td>Python语言的2017年终总结</td>\n",
       "      <td>7446</td>\n",
       "      <td>56</td>\n",
       "      <td>0</td>\n",
       "      <td>1</td>\n",
       "      <td>2017-12-25 08:24:12</td>\n",
       "    </tr>\n",
       "    <tr>\n",
       "      <th>8</th>\n",
       "      <td>10行代码爬取微信公众号文章评论</td>\n",
       "      <td>7125</td>\n",
       "      <td>62</td>\n",
       "      <td>0</td>\n",
       "      <td>3</td>\n",
       "      <td>2017-07-30 21:49:18</td>\n",
       "    </tr>\n",
       "    <tr>\n",
       "      <th>9</th>\n",
       "      <td>零基础如何自学Python</td>\n",
       "      <td>6811</td>\n",
       "      <td>124</td>\n",
       "      <td>0</td>\n",
       "      <td>6</td>\n",
       "      <td>2017-12-15 07:50:00</td>\n",
       "    </tr>\n",
       "  </tbody>\n",
       "</table>\n",
       "</div>"
      ],
      "text/plain": [
       "                                 title  read_num  like_num  comment_num  \\\n",
       "0         微软考虑将 Python 作为 Excel 官方脚本语言      8628        66            0   \n",
       "1                        5个酷毙的Python工具      8443        39            0   \n",
       "2                        Python是怎么火起来的      8423        67            0   \n",
       "3                        Python爬虫知识点梳理      8370       128            0   \n",
       "4                         如何快速入门Python      8132       123            0   \n",
       "5  最新技能 get：用 AI 玩微信跳一跳，自动刷分可破 10000 分      8078        75            0   \n",
       "6                              推荐几个公众号      7726       105            0   \n",
       "7                    Python语言的2017年终总结      7446        56            0   \n",
       "8                     10行代码爬取微信公众号文章评论      7125        62            0   \n",
       "9                        零基础如何自学Python      6811       124            0   \n",
       "\n",
       "   reward_num              p_date  \n",
       "0           0 2017-12-17 16:57:23  \n",
       "1           0 2017-12-27 08:00:00  \n",
       "2           3 2017-06-30 07:54:56  \n",
       "3           5 2017-09-20 18:12:54  \n",
       "4          13 2017-06-05 08:47:48  \n",
       "5           0 2018-01-05 16:30:00  \n",
       "6           7 2017-11-12 14:55:30  \n",
       "7           1 2017-12-25 08:24:12  \n",
       "8           3 2017-07-30 21:49:18  \n",
       "9           6 2017-12-15 07:50:00  "
      ]
     },
     "execution_count": 5,
     "metadata": {},
     "output_type": "execute_result"
    }
   ],
   "source": [
    "# 获取阅读量最高的10篇文章\n",
    "# 根据阅读数排序，ascending表示降序排列\n",
    "top_read_num_10 = df.sort_values(by=['read_num'],ascending=False)[:10]\n",
    "top_read_num_10 = top_read_num_10[display_colums]\n",
    "top_read_num_10.reset_index(drop=True)\n",
    "# 重置行索引，drop表示删除原来的行索引"
   ]
  },
  {
   "cell_type": "code",
   "execution_count": 6,
   "metadata": {},
   "outputs": [
    {
     "data": {
      "image/png": "[encoded data removed]",
      "text/plain": [
       "<matplotlib.figure.Figure at 0x10a7e34e0>"
      ]
     },
     "metadata": {},
     "output_type": "display_data"
    }
   ],
   "source": [
    "#历史文章阅读量变化曲线\n",
    "ax = df.plot(y='read_num',x='p_date',title='文章阅读量趋势',figsize=(9,6))\n",
    "#设置y标签\n",
    "ax.set_ylabel(\"阅读量\")\n",
    "#设置x标签\n",
    "ax.set_xlabel(\"\")\n",
    "#隐藏图例\n",
    "ax.legend().set_visible(False)"
   ]
  },
  {
   "cell_type": "code",
   "execution_count": 9,
   "metadata": {},
   "outputs": [
    {
     "data": {
      "text/html": [
       "<div>\n",
       "<style>\n",
       "    .dataframe thead tr:only-child th {\n",
       "        text-align: right;\n",
       "    }\n",
       "\n",
       "    .dataframe thead th {\n",
       "        text-align: left;\n",
       "    }\n",
       "\n",
       "    .dataframe tbody tr th {\n",
       "        vertical-align: top;\n",
       "    }\n",
       "</style>\n",
       "<table border=\"1\" class=\"dataframe\">\n",
       "  <thead>\n",
       "    <tr style=\"text-align: right;\">\n",
       "      <th></th>\n",
       "      <th>p_date</th>\n",
       "      <th>total</th>\n",
       "    </tr>\n",
       "  </thead>\n",
       "  <tbody>\n",
       "    <tr>\n",
       "      <th>0</th>\n",
       "      <td>2013</td>\n",
       "      <td>2</td>\n",
       "    </tr>\n",
       "    <tr>\n",
       "      <th>1</th>\n",
       "      <td>2014</td>\n",
       "      <td>6</td>\n",
       "    </tr>\n",
       "    <tr>\n",
       "      <th>2</th>\n",
       "      <td>2015</td>\n",
       "      <td>3</td>\n",
       "    </tr>\n",
       "    <tr>\n",
       "      <th>3</th>\n",
       "      <td>2016</td>\n",
       "      <td>34</td>\n",
       "    </tr>\n",
       "    <tr>\n",
       "      <th>4</th>\n",
       "      <td>2017</td>\n",
       "      <td>149</td>\n",
       "    </tr>\n",
       "    <tr>\n",
       "      <th>5</th>\n",
       "      <td>2018</td>\n",
       "      <td>9</td>\n",
       "    </tr>\n",
       "  </tbody>\n",
       "</table>\n",
       "</div>"
      ],
      "text/plain": [
       "   p_date  total\n",
       "0    2013      2\n",
       "1    2014      6\n",
       "2    2015      3\n",
       "3    2016     34\n",
       "4    2017    149\n",
       "5    2018      9"
      ]
     },
     "execution_count": 9,
     "metadata": {},
     "output_type": "execute_result"
    }
   ],
   "source": [
    "#按年份统计每年写文章的数量\n",
    "year_df = df.groupby(df.p_date.dt.year).size().reset_index(name='total')\n",
    "year_df"
   ]
  },
  {
   "cell_type": "code",
   "execution_count": 13,
   "metadata": {},
   "outputs": [
    {
     "data": {
      "image/png": "[encoded data removed]",
      "text/plain": [
       "<matplotlib.figure.Figure at 0x1131d9c88>"
      ]
     },
     "metadata": {},
     "output_type": "display_data"
    }
   ],
   "source": [
    "ax= year_df.plot(x='p_date',y='total',kind='bar',figsize=(9,6),fontsize=15)\n",
    "ax.set_ylabel('文章数')\n",
    "ax.set_xlabel(\"\")\n",
    "ax.legend().set_visible(False)\n",
    "#柱状图显示数字\n",
    "for p in ax.patches:\n",
    "    ax.annotate(str(p.get_height()),xy=(p.get_x(),p.get_height()))"
   ]
  },
  {
   "cell_type": "code",
   "execution_count": 14,
   "metadata": {},
   "outputs": [
    {
     "data": {
      "text/plain": [
       "101"
      ]
     },
     "execution_count": 14,
     "metadata": {},
     "output_type": "execute_result"
    }
   ],
   "source": [
    "#过滤赞赏数大于0的数据\n",
    "reward_count = len(df[df.reward_num>0])\n",
    "reward_count"
   ]
  },
  {
   "cell_type": "code",
   "execution_count": 15,
   "metadata": {},
   "outputs": [
    {
     "data": {
      "text/plain": [
       "0.4975369458128079"
      ]
     },
     "execution_count": 15,
     "metadata": {},
     "output_type": "execute_result"
    }
   ],
   "source": [
    "reward_count/len(df)"
   ]
  },
  {
   "cell_type": "code",
   "execution_count": 16,
   "metadata": {},
   "outputs": [
    {
     "data": {
      "text/plain": [
       "518"
      ]
     },
     "execution_count": 16,
     "metadata": {},
     "output_type": "execute_result"
    }
   ],
   "source": [
    "total=df['reward_num'].sum()\n",
    "total"
   ]
  },
  {
   "cell_type": "code",
   "execution_count": 17,
   "metadata": {},
   "outputs": [
    {
     "data": {
      "text/html": [
       "<div>\n",
       "<style>\n",
       "    .dataframe thead tr:only-child th {\n",
       "        text-align: right;\n",
       "    }\n",
       "\n",
       "    .dataframe thead th {\n",
       "        text-align: left;\n",
       "    }\n",
       "\n",
       "    .dataframe tbody tr th {\n",
       "        vertical-align: top;\n",
       "    }\n",
       "</style>\n",
       "<table border=\"1\" class=\"dataframe\">\n",
       "  <thead>\n",
       "    <tr style=\"text-align: right;\">\n",
       "      <th></th>\n",
       "      <th>title</th>\n",
       "      <th>read_num</th>\n",
       "      <th>like_num</th>\n",
       "      <th>comment_num</th>\n",
       "      <th>reward_num</th>\n",
       "      <th>p_date</th>\n",
       "    </tr>\n",
       "  </thead>\n",
       "  <tbody>\n",
       "    <tr>\n",
       "      <th>0</th>\n",
       "      <td>自学Python编程怎么学才不那么孤独</td>\n",
       "      <td>5763</td>\n",
       "      <td>100</td>\n",
       "      <td>0</td>\n",
       "      <td>83</td>\n",
       "      <td>2017-10-24 08:36:40</td>\n",
       "    </tr>\n",
       "    <tr>\n",
       "      <th>1</th>\n",
       "      <td>2018 年，学点人工智能（赠书8本）</td>\n",
       "      <td>6353</td>\n",
       "      <td>137</td>\n",
       "      <td>0</td>\n",
       "      <td>45</td>\n",
       "      <td>2017-12-29 08:00:00</td>\n",
       "    </tr>\n",
       "    <tr>\n",
       "      <th>2</th>\n",
       "      <td>【福利】写在5000订阅读者时</td>\n",
       "      <td>1246</td>\n",
       "      <td>58</td>\n",
       "      <td>0</td>\n",
       "      <td>34</td>\n",
       "      <td>2017-04-14 18:24:18</td>\n",
       "    </tr>\n",
       "    <tr>\n",
       "      <th>3</th>\n",
       "      <td>11月赠书，总共10本，附Python书单</td>\n",
       "      <td>6485</td>\n",
       "      <td>190</td>\n",
       "      <td>0</td>\n",
       "      <td>16</td>\n",
       "      <td>2017-11-28 08:00:00</td>\n",
       "    </tr>\n",
       "    <tr>\n",
       "      <th>4</th>\n",
       "      <td>如何快速入门Python</td>\n",
       "      <td>8132</td>\n",
       "      <td>123</td>\n",
       "      <td>0</td>\n",
       "      <td>13</td>\n",
       "      <td>2017-06-05 08:47:48</td>\n",
       "    </tr>\n",
       "    <tr>\n",
       "      <th>5</th>\n",
       "      <td>[荐书|福利] 如何系统学习网络爬虫</td>\n",
       "      <td>4305</td>\n",
       "      <td>76</td>\n",
       "      <td>0</td>\n",
       "      <td>10</td>\n",
       "      <td>2017-09-28 17:16:31</td>\n",
       "    </tr>\n",
       "    <tr>\n",
       "      <th>6</th>\n",
       "      <td>2017半年文章合集（建议收藏）</td>\n",
       "      <td>3031</td>\n",
       "      <td>37</td>\n",
       "      <td>0</td>\n",
       "      <td>10</td>\n",
       "      <td>2017-07-09 09:25:45</td>\n",
       "    </tr>\n",
       "    <tr>\n",
       "      <th>7</th>\n",
       "      <td>初级Python程序员如何进阶？</td>\n",
       "      <td>4798</td>\n",
       "      <td>115</td>\n",
       "      <td>0</td>\n",
       "      <td>10</td>\n",
       "      <td>2017-05-18 17:09:30</td>\n",
       "    </tr>\n",
       "    <tr>\n",
       "      <th>8</th>\n",
       "      <td>2017年3月写字总结</td>\n",
       "      <td>1286</td>\n",
       "      <td>52</td>\n",
       "      <td>0</td>\n",
       "      <td>9</td>\n",
       "      <td>2017-04-02 01:35:01</td>\n",
       "    </tr>\n",
       "    <tr>\n",
       "      <th>9</th>\n",
       "      <td>Python进阶好书推荐，还有送书</td>\n",
       "      <td>5110</td>\n",
       "      <td>141</td>\n",
       "      <td>0</td>\n",
       "      <td>9</td>\n",
       "      <td>2017-07-26 07:30:00</td>\n",
       "    </tr>\n",
       "  </tbody>\n",
       "</table>\n",
       "</div>"
      ],
      "text/plain": [
       "                   title  read_num  like_num  comment_num  reward_num  \\\n",
       "0    自学Python编程怎么学才不那么孤独      5763       100            0          83   \n",
       "1    2018 年，学点人工智能（赠书8本）      6353       137            0          45   \n",
       "2        【福利】写在5000订阅读者时      1246        58            0          34   \n",
       "3  11月赠书，总共10本，附Python书单      6485       190            0          16   \n",
       "4           如何快速入门Python      8132       123            0          13   \n",
       "5     [荐书|福利] 如何系统学习网络爬虫      4305        76            0          10   \n",
       "6       2017半年文章合集（建议收藏）      3031        37            0          10   \n",
       "7       初级Python程序员如何进阶？      4798       115            0          10   \n",
       "8            2017年3月写字总结      1286        52            0           9   \n",
       "9      Python进阶好书推荐，还有送书      5110       141            0           9   \n",
       "\n",
       "               p_date  \n",
       "0 2017-10-24 08:36:40  \n",
       "1 2017-12-29 08:00:00  \n",
       "2 2017-04-14 18:24:18  \n",
       "3 2017-11-28 08:00:00  \n",
       "4 2017-06-05 08:47:48  \n",
       "5 2017-09-28 17:16:31  \n",
       "6 2017-07-09 09:25:45  \n",
       "7 2017-05-18 17:09:30  \n",
       "8 2017-04-02 01:35:01  \n",
       "9 2017-07-26 07:30:00  "
      ]
     },
     "execution_count": 17,
     "metadata": {},
     "output_type": "execute_result"
    }
   ],
   "source": [
    "top_reward_num = df.sort_values(by=['reward_num'],ascending=False)[:10]\n",
    "top_reward_num = top_reward_num[display_colums]\n",
    "top_reward_num\n",
    "top_reward_num.reset_index(drop=True)"
   ]
  },
  {
   "cell_type": "code",
   "execution_count": 18,
   "metadata": {},
   "outputs": [
    {
     "data": {
      "image/png": "[encoded data removed]",
      "text/plain": [
       "<matplotlib.figure.Figure at 0x113615470>"
      ]
     },
     "metadata": {},
     "output_type": "display_data"
    }
   ],
   "source": [
    "ax=top_reward_num.plot(x='title',\n",
    "                       y='reward_num',\n",
    "                       kind='barh',\n",
    "                       figsize=(9,6),\n",
    "                       fontsize=14)\n",
    "ax.set_ylabel(\"\")\n",
    "ax.set_xlabel(\"赞赏数\")\n",
    "ax.legend().set_visible(False)"
   ]
  },
  {
   "cell_type": "code",
   "execution_count": 20,
   "metadata": {},
   "outputs": [
    {
     "data": {
      "text/plain": [
       "[<matplotlib.lines.Line2D at 0x10a826438>]"
      ]
     },
     "execution_count": 20,
     "metadata": {},
     "output_type": "execute_result"
    },
    {
     "data": {
      "image/png": "[encoded data removed]",
      "text/plain": [
       "<matplotlib.figure.Figure at 0x10a826358>"
      ]
     },
     "metadata": {},
     "output_type": "display_data"
    }
   ],
   "source": [
    "#散点图\n",
    "ax=df.plot(kind='scatter',y='like_num',x='read_num',s=10,figsize=(9,6),fontsize=15)\n",
    "ax.set_xlabel(\"阅读量\")\n",
    "ax.set_ylabel(\"点赞数\")\n",
    "\n",
    "z=np.polyfit(df.read_num,df.like_num,1)\n",
    "p=np.poly1d(z)\n",
    "plt.plot(df.read_num,p(df.read_num),'r--')\n"
   ]
  },
  {
   "cell_type": "code",
   "execution_count": null,
   "metadata": {
    "scrolled": true
   },
   "outputs": [],
   "source": [
    "import jieba\n",
    "from wordcloud import WordCloud\n",
    "\n",
    "words=[]\n",
    "for i in df.title:\n",
    "    seg_list = jieba.cut(i,cut_all=False)\n",
    "    words.append(\" \".join(seg_list))\n",
    "wordcloud=WordCloud(font_path=\"/Library/Fonts/Songti.ttc\",\n",
    "                    backgroud_color=\"white\",\n",
    "                    max_words=80).generate(\" \".join(words))\n",
    "plt.figure(figsize=(9,6))\n",
    "plt.imshow(wordcloud,interpolation=\"bilinear\")\n",
    "plt.axis(\"off\")\n",
    "plt.show()\n"
   ]
  },
  {
   "cell_type": "code",
   "execution_count": null,
   "metadata": {
    "collapsed": true
   },
   "outputs": [],
   "source": []
  }
 ],
 "metadata": {
  "kernelspec": {
   "display_name": "Python 3",
   "language": "python",
   "name": "python3"
  },
  "language_info": {
   "codemirror_mode": {
    "name": "ipython",
    "version": 3
   },
   "file_extension": ".py",
   "mimetype": "text/x-python",
   "name": "python",
   "nbconvert_exporter": "python",
   "pygments_lexer": "ipython3",
   "version": "3.6.3"
  }
 },
 "nbformat": 4,
 "nbformat_minor": 2
}
